{
 "cells": [
  {
   "cell_type": "markdown",
   "metadata": {},
   "source": [
    "# Assignment 3"
   ]
  },
  {
   "cell_type": "markdown",
   "metadata": {},
   "source": [
    "# Instructions\n",
    "\n",
    "1. You have to use only this notebook for all your code.\n",
    "2. All the results and plots should be mentioned in this notebook.\n",
    "3. For final submission, submit this notebook along with the report ( usual 2-4 pages, latex typeset, which includes the challenges faces and details of additional steps, if any)\n",
    "4. Marking scheme\n",
    "    -  **60%**: Your code should be able to detect bounding boxes using resnet 18, correct data loading and preprocessing. Plot any 5 correct and 5 incorrect sample detections from the test set in this notebook for both the approached (1 layer and 2 layer detection), so total of 20 plots.\n",
    "    -  **20%**: Use two layers (multi-scale feature maps) to detect objects independently as in SSD (https://arxiv.org/abs/1512.02325).  In this method, 1st detection will be through the last layer of Resnet18 and the 2nd detection could be through any layer before the last layer. SSD uses lower resolution layers to detect larger scale objects. \n",
    "    -  **20%**: Implement Non-maximum suppression (NMS) (should not be imported from any library) on the candidate bounding boxes.\n",
    "    \n",
    "5. Report AP for each of the three class and mAP score for the complete test set."
   ]
  },
  {
   "cell_type": "code",
   "execution_count": 2,
   "metadata": {},
   "outputs": [],
   "source": [
    "from __future__ import division, print_function, unicode_literals\n",
    "import numpy as np\n",
    "import torch\n",
    "import torch.utils.data\n",
    "import torchvision.transforms as transforms\n",
    "from torch.autograd import Variable\n",
    "import matplotlib.pyplot as plt\n",
    "%matplotlib inline\n",
    "plt.ion()\n",
    "# Import other modules if required\n",
    "import os\n",
    "from scipy.misc import imread\n",
    "from matplotlib import pyplot as plt\n",
    "from skimage import transform\n",
    "# Can use other libraries as well\n",
    "\n",
    "resnet_input = 224 #size of resnet18 input images"
   ]
  },
  {
   "cell_type": "code",
   "execution_count": 53,
   "metadata": {},
   "outputs": [],
   "source": [
    "# Choose your hyper-parameters using validation data\n",
    "batch_size = 2\n",
    "num_epochs = 5\n",
    "learning_rate =  0.001\n",
    "hyp_momentum = 0.9"
   ]
  },
  {
   "cell_type": "markdown",
   "metadata": {
    "collapsed": true
   },
   "source": [
    "## Build the data\n",
    "Use the following links to locally download the data:\n",
    "<br/>Training and validation:\n",
    "<br/>http://host.robots.ox.ac.uk/pascal/VOC/voc2007/VOCtrainval_06-Nov-2007.tar\n",
    "<br/>Testing data:\n",
    "<br/>http://host.robots.ox.ac.uk/pascal/VOC/voc2007/VOCtest_06-Nov-2007.tar\n",
    "<br/>The dataset consists of images from 20 classes, with detection annotations included. The JPEGImages folder houses the images, and the Annotations folder has the object-wise labels for the objects in one xml file per image. You have to extract the object information, i.e. the [xmin, ymin] (the top left x,y co-ordinates) and the [xmax, ymax] (the bottom right x,y co-ordinates) of only the objects belonging to the three classes(aeroplane, bottle, chair). For parsing the xml file, you can import xml.etree.ElementTree for you. <br/>\n",
    "<br/> Organize the data as follows:\n",
    "<br/> For every image in the dataset, extract/crop the object patch from the image one by one using their respective co-ordinates:[xmin, ymin, xmax, ymax], resize the image to resnet_input, and store it with its class label information. Do the same for training/validation and test datasets. <br/>\n",
    "##### Important\n",
    "You also have to collect data for an extra background class which stands for the class of an object which is not a part of any of the 20 classes. For this, you can crop and resize any random patches from an image. A good idea is to extract patches that have low \"intersection over union\" with any object present in the image frame from the 20 Pascal VOC classes. The number of background images should be roughly around those of other class objects' images. Hence the total classes turn out to be four. This is important for applying the sliding window method later.\n"
   ]
  },
  {
   "cell_type": "code",
   "execution_count": 4,
   "metadata": {},
   "outputs": [],
   "source": [
    "classes = ('__background__',\n",
    "           'aeroplane',\n",
    "           'bottle','chair'\n",
    "           )\n"
   ]
  },
  {
   "cell_type": "code",
   "execution_count": 6,
   "metadata": {},
   "outputs": [
    {
     "name": "stderr",
     "output_type": "stream",
     "text": [
      "/usr/lib/python3/dist-packages/ipykernel_launcher.py:9: DeprecationWarning: `imread` is deprecated!\n",
      "`imread` is deprecated in SciPy 1.0.0, and will be removed in 1.2.0.\n",
      "Use ``imageio.imread`` instead.\n",
      "  if __name__ == '__main__':\n"
     ]
    },
    {
     "name": "stdout",
     "output_type": "stream",
     "text": [
      "VOCtrainval_06-Nov-2007/VOCdevkit/VOC2007/Annotations/006916.xml\n",
      "VOCtrainval_06-Nov-2007/VOCdevkit/VOC2007/Annotations/008301.xml\n",
      "VOCtrainval_06-Nov-2007/VOCdevkit/VOC2007/Annotations/003100.xml\n",
      "VOCtrainval_06-Nov-2007/VOCdevkit/VOC2007/Annotations/005026.xml\n",
      "VOCtrainval_06-Nov-2007/VOCdevkit/VOC2007/Annotations/002565.xml\n",
      "VOCtrainval_06-Nov-2007/VOCdevkit/VOC2007/Annotations/006635.xml\n",
      "VOCtrainval_06-Nov-2007/VOCdevkit/VOC2007/Annotations/006784.xml\n",
      "VOCtrainval_06-Nov-2007/VOCdevkit/VOC2007/Annotations/001269.xml\n",
      "VOCtrainval_06-Nov-2007/VOCdevkit/VOC2007/Annotations/001907.xml\n",
      "VOCtrainval_06-Nov-2007/VOCdevkit/VOC2007/Annotations/007448.xml\n",
      "VOCtrainval_06-Nov-2007/VOCdevkit/VOC2007/Annotations/007486.xml\n",
      "407 141\n",
      "VOCtrainval_06-Nov-2007/VOCdevkit/VOC2007/Annotations/008068.xml\n",
      "VOCtrainval_06-Nov-2007/VOCdevkit/VOC2007/Annotations/009268.xml\n",
      "VOCtrainval_06-Nov-2007/VOCdevkit/VOC2007/Annotations/007642.xml\n",
      "VOCtrainval_06-Nov-2007/VOCdevkit/VOC2007/Annotations/006235.xml\n",
      "VOCtrainval_06-Nov-2007/VOCdevkit/VOC2007/Annotations/007132.xml\n",
      "VOCtrainval_06-Nov-2007/VOCdevkit/VOC2007/Annotations/001315.xml\n",
      "VOCtrainval_06-Nov-2007/VOCdevkit/VOC2007/Annotations/008342.xml\n",
      "VOCtrainval_06-Nov-2007/VOCdevkit/VOC2007/Annotations/009711.xml\n",
      "VOCtrainval_06-Nov-2007/VOCdevkit/VOC2007/Annotations/007633.xml\n",
      "VOCtrainval_06-Nov-2007/VOCdevkit/VOC2007/Annotations/009418.xml\n",
      "VOCtrainval_06-Nov-2007/VOCdevkit/VOC2007/Annotations/008478.xml\n",
      "VOCtrainval_06-Nov-2007/VOCdevkit/VOC2007/Annotations/005410.xml\n",
      "VOCtrainval_06-Nov-2007/VOCdevkit/VOC2007/Annotations/007182.xml\n",
      "VOCtrainval_06-Nov-2007/VOCdevkit/VOC2007/Annotations/007526.xml\n",
      "VOCtrainval_06-Nov-2007/VOCdevkit/VOC2007/Annotations/008883.xml\n",
      "VOCtrainval_06-Nov-2007/VOCdevkit/VOC2007/Annotations/005899.xml\n",
      "VOCtrainval_06-Nov-2007/VOCdevkit/VOC2007/Annotations/003696.xml\n",
      "VOCtrainval_06-Nov-2007/VOCdevkit/VOC2007/Annotations/005063.xml\n",
      "VOCtrainval_06-Nov-2007/VOCdevkit/VOC2007/Annotations/007869.xml\n",
      "VOCtrainval_06-Nov-2007/VOCdevkit/VOC2007/Annotations/001622.xml\n",
      "VOCtrainval_06-Nov-2007/VOCdevkit/VOC2007/Annotations/001072.xml\n",
      "VOCtrainval_06-Nov-2007/VOCdevkit/VOC2007/Annotations/000459.xml\n",
      "173 89\n",
      "VOCtrainval_06-Nov-2007/VOCdevkit/VOC2007/Annotations/007009.xml\n",
      "VOCtrainval_06-Nov-2007/VOCdevkit/VOC2007/Annotations/009438.xml\n",
      "VOCtrainval_06-Nov-2007/VOCdevkit/VOC2007/Annotations/009832.xml\n",
      "VOCtrainval_06-Nov-2007/VOCdevkit/VOC2007/Annotations/000579.xml\n",
      "VOCtrainval_06-Nov-2007/VOCdevkit/VOC2007/Annotations/000889.xml\n",
      "VOCtrainval_06-Nov-2007/VOCdevkit/VOC2007/Annotations/004910.xml\n",
      "VOCtrainval_06-Nov-2007/VOCdevkit/VOC2007/Annotations/000501.xml\n",
      "VOCtrainval_06-Nov-2007/VOCdevkit/VOC2007/Annotations/000996.xml\n",
      "89 81\n",
      "69 56\n",
      "45 39\n",
      "41 39\n",
      "164 161\n",
      "139 162\n",
      "75 110\n",
      "60 70\n",
      "VOCtrainval_06-Nov-2007/VOCdevkit/VOC2007/Annotations/004828.xml\n",
      "VOCtrainval_06-Nov-2007/VOCdevkit/VOC2007/Annotations/007481.xml\n",
      "VOCtrainval_06-Nov-2007/VOCdevkit/VOC2007/Annotations/006377.xml\n",
      "VOCtrainval_06-Nov-2007/VOCdevkit/VOC2007/Annotations/005984.xml\n",
      "VOCtrainval_06-Nov-2007/VOCdevkit/VOC2007/Annotations/008931.xml\n",
      "63 117\n",
      "39 142\n",
      "28 93\n",
      "VOCtrainval_06-Nov-2007/VOCdevkit/VOC2007/Annotations/006587.xml\n",
      "VOCtrainval_06-Nov-2007/VOCdevkit/VOC2007/Annotations/004866.xml\n",
      "VOCtrainval_06-Nov-2007/VOCdevkit/VOC2007/Annotations/000005.xml\n",
      "61 128\n",
      "88 108\n",
      "62 130\n",
      "54 105\n",
      "35 34\n",
      "VOCtrainval_06-Nov-2007/VOCdevkit/VOC2007/Annotations/005989.xml\n"
     ]
    },
    {
     "data": {
      "image/png": "[encoded data removed]",
      "text/plain": [
       "<Figure size 432x288 with 1 Axes>"
      ]
     },
     "metadata": {},
     "output_type": "display_data"
    },
    {
     "name": "stdout",
     "output_type": "stream",
     "text": [
      "[0. 0. 0. 1.]\n"
     ]
    }
   ],
   "source": [
    "import xml.etree.ElementTree as ET\n",
    "from glob import glob\n",
    "images = []\n",
    "categs = []\n",
    "def build_dataset(data_path):\n",
    "    data = glob(os.path.join(data_path,\"*\",\"*\",\"*\",\"*.jpg\"))\n",
    "    count = 0\n",
    "    for file in data:\n",
    "        image = imread(file, mode=\"RGB\")\n",
    "        img_name = file.split('/')[-1].split('.')[0]\n",
    "        annotation_path = data_path +'/VOCdevkit/VOC2007/Annotations/'+img_name + '.xml'\n",
    "        print(annotation_path)\n",
    "        tree = ET.parse(annotation_path)\n",
    "        root = tree.getroot()\n",
    "        for child in root:\n",
    "#             print(child.tag)\n",
    "            if child.tag == 'object':\n",
    "                if child[0].tag == 'name':\n",
    "                    if child[0].text in classes:\n",
    "                        xmin = int(child[4][0].text)\n",
    "                        ymin = int(child[4][1].text)\n",
    "                        xmax = int(child[4][2].text)\n",
    "                        ymax = int(child[4][3].text)\n",
    "                        cropped = image[xmin:xmax,ymin:ymax]\n",
    "#                         cropped=transform.resize(cropped, (224,224),anti_aliasing=True)\n",
    "                        images.append(cropped)\n",
    "                        categ = np.zeros(4)\n",
    "                        if child[0].text == classes[0]:\n",
    "                            categ[0] = 1\n",
    "                        elif child[0].text == classes[1]:\n",
    "                            categ[1] = 1\n",
    "                        elif child[0].text == classes[2]:\n",
    "                            categ[2] = 1\n",
    "                        elif child[0].text == classes[3]:\n",
    "                            categ[3] = 1\n",
    "                        categs.append(categ)\n",
    "                        print(xmax-xmin,ymax-ymin)\n",
    "\n",
    "                            \n",
    "        count += 1\n",
    "#         print(count)\n",
    "        if count == 50:\n",
    "            break\n",
    "build_dataset('VOCtrainval_06-Nov-2007')\n",
    "plt.imshow(images[9])\n",
    "plt.show()\n",
    "print(categs[9])"
   ]
  },
  {
   "cell_type": "code",
   "execution_count": null,
   "metadata": {
    "collapsed": true
   },
   "outputs": [],
   "source": [
    "class voc_dataset(torch.utils.data.Dataset): # Extend PyTorch's Dataset class\n",
    "    def __init__(self, root_dir, train, transform=None):\n",
    "        # Begin\n",
    "        \n",
    "    def __len__(self):\n",
    "        # Begin\n",
    "        \n",
    "    def __getitem__(self, idx):\n",
    "       # Begin\n",
    "    "
   ]
  },
  {
   "cell_type": "markdown",
   "metadata": {},
   "source": [
    "## Train the netwok\n",
    "<br/>You can train the network on the created dataset. This will yield a classification network on the 4 classes of the VOC dataset. "
   ]
  },
  {
   "cell_type": "code",
   "execution_count": null,
   "metadata": {
    "collapsed": true
   },
   "outputs": [],
   "source": [
    "composed_transform = transforms.Compose([transforms.Scale((resnet_input,resnet_input)),\n",
    "                                         transforms.ToTensor(),\n",
    "                                         transforms.RandomHorizontalFlip()])\n",
    "train_dataset = voc_dataset(root_dir='', train=True, transform=composed_transform) # Supply proper root_dir\n",
    "test_dataset = voc_dataset(root_dir='', train=False, transform=composed_transform) # Supply proper root_dir\n",
    "\n",
    "train_loader = torch.utils.data.DataLoader(dataset=train_dataset, batch_size=batch_size, shuffle=True)\n",
    "test_loader = torch.utils.data.DataLoader(dataset=test_dataset, batch_size=batch_size, shuffle=False)"
   ]
  },
  {
   "cell_type": "markdown",
   "metadata": {},
   "source": [
    "### Fine-tuning\n",
    "Use the pre-trained network to fine-tune the network in the following section:"
   ]
  },
  {
   "cell_type": "code",
   "execution_count": null,
   "metadata": {
    "collapsed": true
   },
   "outputs": [],
   "source": [
    "resnet18 = models.resnet18(pretrained=True)\n",
    "\n",
    "resnet18.fc = nn.Linear(resnet18.fc.in_features, 4)\n",
    "\n",
    "# Add code for using CUDA here"
   ]
  },
  {
   "cell_type": "code",
   "execution_count": null,
   "metadata": {
    "collapsed": true
   },
   "outputs": [],
   "source": [
    "criterion = nn.CrossEntropyLoss()\n",
    "# Update if any errors occur\n",
    "optimizer = optim.SGD(resnet18.parameters(), learning_rate, hyp_momentum)"
   ]
  },
  {
   "cell_type": "code",
   "execution_count": null,
   "metadata": {
    "collapsed": true
   },
   "outputs": [],
   "source": [
    "#One Layer Detection\n",
    "def train():\n",
    "    # Begin"
   ]
  },
  {
   "cell_type": "code",
   "execution_count": null,
   "metadata": {
    "collapsed": true
   },
   "outputs": [],
   "source": [
    "%time train()"
   ]
  },
  {
   "cell_type": "code",
   "execution_count": null,
   "metadata": {
    "collapsed": true
   },
   "outputs": [],
   "source": [
    "#Two Layer Detection (SSD)\n",
    "def train():\n",
    "    # Begin"
   ]
  },
  {
   "cell_type": "code",
   "execution_count": null,
   "metadata": {
    "collapsed": true
   },
   "outputs": [],
   "source": [
    "%time train()"
   ]
  },
  {
   "cell_type": "markdown",
   "metadata": {},
   "source": [
    "# Testing and Accuracy Calculation\n",
    "For applying detection, use a slding window method to test the above trained trained network on the detection task:<br/>\n",
    "Take some windows of varying size and aspect ratios and slide it through the test image (considering some stride of pixels) from left to right, and top to bottom, detect the class scores for each of the window, and keep only those which are above a certain threshold value. There is a similar approach used in the paper -Faster RCNN by Ross Girshick, where he uses three diferent scales/sizes and three different aspect ratios, making a total of nine windows per pixel to slide. You need to write the code and use it in testing code to find the predicted boxes and their classes."
   ]
  },
  {
   "cell_type": "code",
   "execution_count": null,
   "metadata": {
    "collapsed": true
   },
   "outputs": [],
   "source": [
    "def sliding_window():\n",
    "    # Begin"
   ]
  },
  {
   "cell_type": "markdown",
   "metadata": {},
   "source": [
    "Apply non_maximum_supression to reduce the number of boxes. You are free to choose the threshold value for non maximum supression, but choose wisely [0,1]."
   ]
  },
  {
   "cell_type": "code",
   "execution_count": null,
   "metadata": {
    "collapsed": true
   },
   "outputs": [],
   "source": [
    "def non_maximum_supression(boxes,threshold = 0.3):\n",
    "    # "
   ]
  },
  {
   "cell_type": "markdown",
   "metadata": {},
   "source": [
    "Test the trained model on the test dataset."
   ]
  },
  {
   "cell_type": "code",
   "execution_count": null,
   "metadata": {
    "collapsed": true
   },
   "outputs": [],
   "source": [
    "#One Layer Detection\n",
    "def test(resnet18):\n",
    "    # Write loops for testing the model on the test set\n",
    "    # Also print out the accuracy of the model"
   ]
  },
  {
   "cell_type": "code",
   "execution_count": null,
   "metadata": {
    "collapsed": true
   },
   "outputs": [],
   "source": [
    "%time test(resnet18)"
   ]
  },
  {
   "cell_type": "code",
   "execution_count": null,
   "metadata": {
    "collapsed": true
   },
   "outputs": [],
   "source": [
    "#Two Layer Detection\n",
    "def test(resnet18):\n",
    "    # Write loops for testing the model on the test set\n",
    "    # Also print out the accuracy of the model"
   ]
  },
  {
   "cell_type": "code",
   "execution_count": null,
   "metadata": {
    "collapsed": true
   },
   "outputs": [],
   "source": [
    "%time test(resnet18)"
   ]
  }
 ],
 "metadata": {
  "kernelspec": {
   "display_name": "Python 3",
   "language": "python",
   "name": "python3"
  },
  "language_info": {
   "codemirror_mode": {
    "name": "ipython",
    "version": 3
   },
   "file_extension": ".py",
   "mimetype": "text/x-python",
   "name": "python",
   "nbconvert_exporter": "python",
   "pygments_lexer": "ipython3",
   "version": "3.6.7"
  }
 },
 "nbformat": 4,
 "nbformat_minor": 2
}
